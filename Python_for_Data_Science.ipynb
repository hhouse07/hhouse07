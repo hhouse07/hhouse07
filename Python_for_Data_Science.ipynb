{
  "nbformat": 4,
  "nbformat_minor": 0,
  "metadata": {
    "colab": {
      "name": "Python for Data Science",
      "provenance": [],
      "mount_file_id": "1EtlUYTyFq5OF1zEXVWNmz5BWWmb9TiYe",
      "authorship_tag": "ABX9TyMLGgO59/5qc5Rfd2cPm9GG",
      "include_colab_link": true
    },
    "kernelspec": {
      "name": "python3",
      "display_name": "Python 3"
    },
    "language_info": {
      "name": "python"
    }
  },
  "cells": [
    {
      "cell_type": "markdown",
      "metadata": {
        "id": "view-in-github",
        "colab_type": "text"
      },
      "source": [
        "<a href=\"https://colab.research.google.com/github/hhouse07/hhouse07/blob/main/Python_for_Data_Science.ipynb\" target=\"_parent\"><img src=\"https://colab.research.google.com/assets/colab-badge.svg\" alt=\"Open In Colab\"/></a>"
      ]
    },
    {
      "cell_type": "markdown",
      "metadata": {
        "id": "QqiwB1N3Ck7x"
      },
      "source": [
        "Decision Tree "
      ]
    },
    {
      "cell_type": "code",
      "metadata": {
        "id": "KyK8aC_6yUVo"
      },
      "source": [
        "from sklearn import tree"
      ],
      "execution_count": null,
      "outputs": []
    },
    {
      "cell_type": "code",
      "metadata": {
        "id": "J318QXVRy2wc"
      },
      "source": [
        "X = [[181,80,44],[177,70,43],[160,60,38],[154,54,37],[166,65,40],[190,90,47],[175,64,39],[177,70,40],[159,75,38],[171,75,42],[181,85,43]]"
      ],
      "execution_count": null,
      "outputs": []
    },
    {
      "cell_type": "code",
      "metadata": {
        "id": "spegesjmzI3Q"
      },
      "source": [
        "Y = ['male', 'female','female','female','male','male','male','female','male','female','male']"
      ],
      "execution_count": null,
      "outputs": []
    },
    {
      "cell_type": "code",
      "metadata": {
        "id": "ozMI0oQJ0e-V"
      },
      "source": [
        "clf = tree.DecisionTreeClassifier()"
      ],
      "execution_count": null,
      "outputs": []
    },
    {
      "cell_type": "code",
      "metadata": {
        "id": "Z2XWIxmM0kK0"
      },
      "source": [
        "clf = clf.fit(X,Y)"
      ],
      "execution_count": null,
      "outputs": []
    },
    {
      "cell_type": "code",
      "metadata": {
        "id": "VKyv2fY10nAo"
      },
      "source": [
        "prediction = clf.predict([[190,70,43]])"
      ],
      "execution_count": null,
      "outputs": []
    },
    {
      "cell_type": "code",
      "metadata": {
        "colab": {
          "base_uri": "https://localhost:8080/"
        },
        "id": "jUjwMB3c1J6s",
        "outputId": "caf0c161-b84c-451d-a1e8-82d19c735697"
      },
      "source": [
        "print(prediction)"
      ],
      "execution_count": null,
      "outputs": [
        {
          "output_type": "stream",
          "text": [
            "['female']\n"
          ],
          "name": "stdout"
        }
      ]
    },
    {
      "cell_type": "markdown",
      "metadata": {
        "id": "fDhG3Rj8Cw88"
      },
      "source": [
        "Twitter Sentiment Analysis"
      ]
    },
    {
      "cell_type": "code",
      "metadata": {
        "id": "qTYhaNm4H3gL"
      },
      "source": [
        "from textblob import TextBlob"
      ],
      "execution_count": null,
      "outputs": []
    },
    {
      "cell_type": "code",
      "metadata": {
        "id": "ETmj74dTI3qT"
      },
      "source": [
        "text = \"hello hunter house\""
      ],
      "execution_count": null,
      "outputs": []
    },
    {
      "cell_type": "code",
      "metadata": {
        "colab": {
          "base_uri": "https://localhost:8080/"
        },
        "id": "RiKMTfeqJDNM",
        "outputId": "74abb67e-aca1-4201-c374-8833c53dcd49"
      },
      "source": [
        "import nltk\n",
        "nltk.download('punkt')\n",
        "nltk.download('averaged_perceptron_tagger')"
      ],
      "execution_count": null,
      "outputs": [
        {
          "output_type": "stream",
          "text": [
            "[nltk_data] Downloading package punkt to /root/nltk_data...\n",
            "[nltk_data]   Package punkt is already up-to-date!\n",
            "[nltk_data] Downloading package averaged_perceptron_tagger to\n",
            "[nltk_data]     /root/nltk_data...\n",
            "[nltk_data]   Unzipping taggers/averaged_perceptron_tagger.zip.\n"
          ],
          "name": "stdout"
        },
        {
          "output_type": "execute_result",
          "data": {
            "text/plain": [
              "True"
            ]
          },
          "metadata": {
            "tags": []
          },
          "execution_count": 22
        }
      ]
    },
    {
      "cell_type": "code",
      "metadata": {
        "id": "0gHmeNshIHpv"
      },
      "source": [
        "wiki = TextBlob(text)"
      ],
      "execution_count": null,
      "outputs": []
    },
    {
      "cell_type": "code",
      "metadata": {
        "colab": {
          "base_uri": "https://localhost:8080/"
        },
        "id": "YTwTRo3xIPGz",
        "outputId": "82892c1c-6866-4ef9-87ee-8492cc3fb7b0"
      },
      "source": [
        "wiki.words"
      ],
      "execution_count": null,
      "outputs": [
        {
          "output_type": "execute_result",
          "data": {
            "text/plain": [
              "WordList(['hello', 'hunter', 'house'])"
            ]
          },
          "metadata": {
            "tags": []
          },
          "execution_count": 24
        }
      ]
    },
    {
      "cell_type": "code",
      "metadata": {
        "colab": {
          "base_uri": "https://localhost:8080/"
        },
        "id": "bQ6_GTo8IQK1",
        "outputId": "08c8cfef-83d9-4f3a-e5d7-f08ba9477936"
      },
      "source": [
        "wiki.tags"
      ],
      "execution_count": null,
      "outputs": [
        {
          "output_type": "execute_result",
          "data": {
            "text/plain": [
              "[('hello', 'JJ'), ('hunter', 'NN'), ('house', 'NN')]"
            ]
          },
          "metadata": {
            "tags": []
          },
          "execution_count": 25
        }
      ]
    },
    {
      "cell_type": "code",
      "metadata": {
        "colab": {
          "base_uri": "https://localhost:8080/"
        },
        "id": "lvIDcThSJLQu",
        "outputId": "a71fbbea-a49f-414f-87ab-e81d90d24ba9"
      },
      "source": [
        "wiki.sentiment.polarity"
      ],
      "execution_count": null,
      "outputs": [
        {
          "output_type": "execute_result",
          "data": {
            "text/plain": [
              "0.0"
            ]
          },
          "metadata": {
            "tags": []
          },
          "execution_count": 26
        }
      ]
    },
    {
      "cell_type": "code",
      "metadata": {
        "id": "u1iHPQEWJcCO"
      },
      "source": [
        "consumer_key = '7V2X6Yk76rCSjV6Q5DHV4wjzJ'\n",
        "consumer_secret = 'ORc3A3QoL7gTvp6uRQYy1gQzrGfBhCfNxkOEMxoGUy6nG7uNwO'\n",
        "\n",
        "access_token = '1401262220-STVS0wdbxEtWfeGeYc3Pn1qTczvL6ixz8Zw29Ff'\n",
        "access_token_secret = '0EEzcwatRrs8AbxV29OuRkWqVvnkuPzu8SxOR71Un5iZ0'"
      ],
      "execution_count": null,
      "outputs": []
    },
    {
      "cell_type": "code",
      "metadata": {
        "id": "q4UHvUqvMS2f"
      },
      "source": [
        "import tweepy"
      ],
      "execution_count": null,
      "outputs": []
    },
    {
      "cell_type": "code",
      "metadata": {
        "id": "_m9W_YZyJqae"
      },
      "source": [
        "auth = tweepy.OAuthHandler(consumer_key,consumer_secret)\n",
        "auth.set_access_token(access_token, access_token_secret)\n",
        "api = tweepy.API(auth)"
      ],
      "execution_count": null,
      "outputs": []
    },
    {
      "cell_type": "code",
      "metadata": {
        "colab": {
          "base_uri": "https://localhost:8080/"
        },
        "id": "DSuGon6TMQCK",
        "outputId": "e00b524c-c5f0-4b61-d5fd-814b5164e775"
      },
      "source": [
        "##Search for tweets\n",
        "public_tweets = api.search('Trump')\n",
        "for tweet in public_tweets:\n",
        "  print(tweet.text)\n",
        "  analysis = TextBlob(tweet.text)\n",
        "  print(analysis.sentiment)"
      ],
      "execution_count": null,
      "outputs": [
        {
          "output_type": "stream",
          "text": [
            "RT @realLizUSA: WOW. So I went to post a clip from President Trump's great interview on @dbongino last night, and lo and behold, Fox News E…\n",
            "Sentiment(polarity=0.3, subjectivity=0.6055555555555555)\n",
            "RT @kylegriffin1: The Jan. 6 select committee is weighing whether to pursue call logs from the Trump White House on the day of the riot. ht…\n",
            "Sentiment(polarity=0.0, subjectivity=0.0)\n",
            "RT @realLizUSA: WOW. So I went to post a clip from President Trump's great interview on @dbongino last night, and lo and behold, Fox News E…\n",
            "Sentiment(polarity=0.3, subjectivity=0.6055555555555555)\n",
            "RT @atrupar: Sen. Dick Durbin says the Senate investigation of Trump's efforts to overturn the 2020 election results indicates that the for…\n",
            "Sentiment(polarity=0.0, subjectivity=0.0)\n",
            "RT @ThePlumLineGS: Important new detail on Trump's coup attempt, from NYT. Then-acting AG Jeffrey Rosen has privately disclosed that the le…\n",
            "Sentiment(polarity=0.1787878787878788, subjectivity=0.6098484848484849)\n",
            "@malcevml @martingust38 Hele fakt nejde o gesta, ne všichni vedou svoje země jako Trump. A jde o byznys.\n",
            "https://t.co/4lMpd5qNEy\n",
            "Sentiment(polarity=0.0, subjectivity=0.0)\n",
            "RT @Tentoads4truth: @kylegriffin1 Jeffrey A. Rosen worked at the law firm Kirkland &amp; Ellis. He has represented an airline trade group, Gene…\n",
            "Sentiment(polarity=-0.2, subjectivity=0.4)\n",
            "RT @OccupyDemocrats: BREAKING NEWS: The NY Times reports that Trump has been forced to refund $12.8 million in campaign donations that he s…\n",
            "Sentiment(polarity=-0.30000000000000004, subjectivity=0.2)\n",
            "RT @RepSwalwell: Don’t let Kevin McCarthy rewrite history. McCarthy and Team Trump are trying to erase the heroism of the Jan. 6 cops. They…\n",
            "Sentiment(polarity=0.0, subjectivity=0.0)\n",
            "RT @funder: Maskless Obama called trump a “corrupt motherf**ker.” Truth. Have a great day.\n",
            "Sentiment(polarity=0.15000000000000002, subjectivity=0.875)\n",
            "RT @VelshiMSNBC: “I am more convinced than ever that Donald Trump and the people who were directly enabling him have to be prosecuted” says…\n",
            "Sentiment(polarity=0.3, subjectivity=0.45)\n",
            "RT @FordJohnathan5: Friday, Feb. 12, 2021: Meadows claims on Hannity that President Trump moved quickly to deploy the National Guard on Jan…\n",
            "Sentiment(polarity=0.3333333333333333, subjectivity=0.5)\n",
            "@bblock29 It was all about reelection for Donald Trump. To hell with covid! To hell with Americans dying. He was ru… https://t.co/L7qKoabjN6\n",
            "Sentiment(polarity=0.0, subjectivity=0.0)\n"
          ],
          "name": "stdout"
        }
      ]
    },
    {
      "cell_type": "code",
      "metadata": {
        "id": "krgH61mTRvSv"
      },
      "source": [
        "topic = ['Trump','Climate Change','Mars','Agriculture','Tik Tok']"
      ],
      "execution_count": null,
      "outputs": []
    },
    {
      "cell_type": "code",
      "metadata": {
        "id": "hMUc-h3uaU1M"
      },
      "source": [
        "#Labelisation\n",
        "def get_label(analysis, threshold = 0):\n",
        "    if analysis.sentiment[0]>threshold:\n",
        "      return 'Positive'\n",
        "    else:\n",
        "      return 'Negative'"
      ],
      "execution_count": null,
      "outputs": []
    },
    {
      "cell_type": "code",
      "metadata": {
        "colab": {
          "base_uri": "https://localhost:8080/"
        },
        "id": "v7IswRcia2eB",
        "outputId": "11cbc959-c841-43b3-96f5-f668e4be13eb"
      },
      "source": [
        "#Creating CSV FILE with data in it\n",
        "import numpy as np\n",
        "from textblob.taggers import PatternTagger\n",
        "\n",
        "#create dictionary of polarities\n",
        "dataset_polarity = dict()\n",
        "dataset_subjectivity = dict()\n",
        "topic_polarity = []\n",
        "topic_subjectivity = []\n",
        "\n",
        "#Call for tweets about topic\n",
        "for x in topic:\n",
        "    dataset_polarity = dict()\n",
        "    dataset_subjectivity = dict()\n",
        "    topic_polarity = []\n",
        "    topic_subjectivity = []\n",
        "    topic_tweets = api.search(x, count = 1000)\n",
        "    \n",
        "    with open('s_tweets.csv',mode= 'w') as tweets_file:\n",
        "            tweets_file.write('tweet,sentiment_label\\n')\n",
        "            for tweet in topic_tweets:\n",
        "              analysis = TextBlob(tweet.text)\n",
        "              pos_tags = analysis.pos_tags\n",
        "              sentiment_result = analysis.sentiment\n",
        "              topic_polarity.append(sentiment_result[0])\n",
        "              topic_subjectivity.append(sentiment_result[1])\n",
        "              tweets_file.write('%s,%s\\n' % (tweet.text.encode('utf8'), get_label(analysis)))\n",
        "              \n",
        "              \n",
        "    dataset_polarity [x]= np.mean(topic_polarity)\n",
        "    dataset_subjectivity[x] = np.mean(topic_subjectivity)\n",
        "    \n",
        "    print('mean polarity',dataset_polarity)\n",
        "    print('mean subjectivity', dataset_subjectivity)"
      ],
      "execution_count": null,
      "outputs": [
        {
          "output_type": "stream",
          "text": [
            "mean polarity {'Trump': 0.0008412725742271132}\n",
            "mean subjectivity {'Trump': 0.3124788651303803}\n",
            "mean polarity {'Climate Change': -0.002194155844155836}\n",
            "mean subjectivity {'Climate Change': 0.3467722582972583}\n",
            "mean polarity {'Mars': 0.018671502976190475}\n",
            "mean subjectivity {'Mars': 0.14821049783549783}\n",
            "mean polarity {'Agriculture': 0.14047222222222222}\n",
            "mean subjectivity {'Agriculture': 0.37067361111111113}\n",
            "mean polarity {'Tik Tok': 0.013234668109668113}\n",
            "mean subjectivity {'Tik Tok': 0.19960299422799427}\n"
          ],
          "name": "stdout"
        }
      ]
    },
    {
      "cell_type": "code",
      "metadata": {
        "id": "064bLe8AbESH"
      },
      "source": [
        ""
      ],
      "execution_count": null,
      "outputs": []
    }
  ]
}